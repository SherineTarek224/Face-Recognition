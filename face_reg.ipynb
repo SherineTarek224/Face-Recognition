{
  "nbformat": 4,
  "nbformat_minor": 0,
  "metadata": {
    "colab": {
      "provenance": [],
      "gpuType": "T4"
    },
    "kernelspec": {
      "name": "python3",
      "display_name": "Python 3"
    },
    "language_info": {
      "name": "python"
    },
    "accelerator": "GPU"
  },
  "cells": [
    {
      "cell_type": "code",
      "source": [
        "!pip install flask flask-ngrok\n"
      ],
      "metadata": {
        "colab": {
          "base_uri": "https://localhost:8080/"
        },
        "id": "9Bd55nkDEJVu",
        "outputId": "f05d1b21-2807-4c67-8850-b3d92b7942b7"
      },
      "execution_count": null,
      "outputs": [
        {
          "output_type": "stream",
          "name": "stdout",
          "text": [
            "Requirement already satisfied: flask in /usr/local/lib/python3.11/dist-packages (3.1.0)\n",
            "Collecting flask-ngrok\n",
            "  Downloading flask_ngrok-0.0.25-py3-none-any.whl.metadata (1.8 kB)\n",
            "Requirement already satisfied: Werkzeug>=3.1 in /usr/local/lib/python3.11/dist-packages (from flask) (3.1.3)\n",
            "Requirement already satisfied: Jinja2>=3.1.2 in /usr/local/lib/python3.11/dist-packages (from flask) (3.1.5)\n",
            "Requirement already satisfied: itsdangerous>=2.2 in /usr/local/lib/python3.11/dist-packages (from flask) (2.2.0)\n",
            "Requirement already satisfied: click>=8.1.3 in /usr/local/lib/python3.11/dist-packages (from flask) (8.1.8)\n",
            "Requirement already satisfied: blinker>=1.9 in /usr/local/lib/python3.11/dist-packages (from flask) (1.9.0)\n",
            "Requirement already satisfied: requests in /usr/local/lib/python3.11/dist-packages (from flask-ngrok) (2.32.3)\n",
            "Requirement already satisfied: MarkupSafe>=2.0 in /usr/local/lib/python3.11/dist-packages (from Jinja2>=3.1.2->flask) (3.0.2)\n",
            "Requirement already satisfied: charset-normalizer<4,>=2 in /usr/local/lib/python3.11/dist-packages (from requests->flask-ngrok) (3.4.1)\n",
            "Requirement already satisfied: idna<4,>=2.5 in /usr/local/lib/python3.11/dist-packages (from requests->flask-ngrok) (3.10)\n",
            "Requirement already satisfied: urllib3<3,>=1.21.1 in /usr/local/lib/python3.11/dist-packages (from requests->flask-ngrok) (2.3.0)\n",
            "Requirement already satisfied: certifi>=2017.4.17 in /usr/local/lib/python3.11/dist-packages (from requests->flask-ngrok) (2024.12.14)\n",
            "Downloading flask_ngrok-0.0.25-py3-none-any.whl (3.1 kB)\n",
            "Installing collected packages: flask-ngrok\n",
            "Successfully installed flask-ngrok-0.0.25\n"
          ]
        }
      ]
    },
    {
      "cell_type": "code",
      "source": [
        "pip install face_recognition opencv-python numpy"
      ],
      "metadata": {
        "colab": {
          "base_uri": "https://localhost:8080/"
        },
        "id": "u1QL-2Q2EKDU",
        "outputId": "8757fbd6-3f48-4c22-d7fa-44e75778d73d"
      },
      "execution_count": null,
      "outputs": [
        {
          "output_type": "stream",
          "name": "stdout",
          "text": [
            "Collecting face_recognition\n",
            "  Downloading face_recognition-1.3.0-py2.py3-none-any.whl.metadata (21 kB)\n",
            "Requirement already satisfied: opencv-python in /usr/local/lib/python3.11/dist-packages (4.10.0.84)\n",
            "Requirement already satisfied: numpy in /usr/local/lib/python3.11/dist-packages (1.26.4)\n",
            "Collecting face-recognition-models>=0.3.0 (from face_recognition)\n",
            "  Downloading face_recognition_models-0.3.0.tar.gz (100.1 MB)\n",
            "\u001b[2K     \u001b[90m━━━━━━━━━━━━━━━━━━━━━━━━━━━━━━━━━━━━━━━━\u001b[0m \u001b[32m100.1/100.1 MB\u001b[0m \u001b[31m7.7 MB/s\u001b[0m eta \u001b[36m0:00:00\u001b[0m\n",
            "\u001b[?25h  Preparing metadata (setup.py) ... \u001b[?25l\u001b[?25hdone\n",
            "Requirement already satisfied: Click>=6.0 in /usr/local/lib/python3.11/dist-packages (from face_recognition) (8.1.8)\n",
            "Requirement already satisfied: dlib>=19.7 in /usr/local/lib/python3.11/dist-packages (from face_recognition) (19.24.2)\n",
            "Requirement already satisfied: Pillow in /usr/local/lib/python3.11/dist-packages (from face_recognition) (11.1.0)\n",
            "Downloading face_recognition-1.3.0-py2.py3-none-any.whl (15 kB)\n",
            "Building wheels for collected packages: face-recognition-models\n",
            "  Building wheel for face-recognition-models (setup.py) ... \u001b[?25l\u001b[?25hdone\n",
            "  Created wheel for face-recognition-models: filename=face_recognition_models-0.3.0-py2.py3-none-any.whl size=100566162 sha256=32faab54675c18b1545196bf9f2148d7fbc0e6e4fb4f480db549631fd42069c0\n",
            "  Stored in directory: /root/.cache/pip/wheels/04/52/ec/9355da79c29f160b038a20c784db2803c2f9fa2c8a462c176a\n",
            "Successfully built face-recognition-models\n",
            "Installing collected packages: face-recognition-models, face_recognition\n",
            "Successfully installed face-recognition-models-0.3.0 face_recognition-1.3.0\n"
          ]
        }
      ]
    },
    {
      "cell_type": "code",
      "source": [
        "!pip install pyngrok\n"
      ],
      "metadata": {
        "colab": {
          "base_uri": "https://localhost:8080/"
        },
        "id": "ro3nVpRkEUu6",
        "outputId": "4aa7fd11-676a-4a75-aeb2-00b9eb09f96e"
      },
      "execution_count": null,
      "outputs": [
        {
          "output_type": "stream",
          "name": "stdout",
          "text": [
            "Requirement already satisfied: pyngrok in /usr/local/lib/python3.11/dist-packages (7.2.3)\n",
            "Requirement already satisfied: PyYAML>=5.1 in /usr/local/lib/python3.11/dist-packages (from pyngrok) (6.0.2)\n"
          ]
        }
      ]
    },
    {
      "cell_type": "code",
      "source": [
        "!ngrok config add-authtoken 2s4dT86XUzzCgzYI0hvFlJu3W9J_3AUWxoGSSC8JecCcfnJDc"
      ],
      "metadata": {
        "colab": {
          "base_uri": "https://localhost:8080/"
        },
        "id": "fFJnzPaDIBXN",
        "outputId": "682a1b2d-eff3-4fb6-9851-8b8da73afaef"
      },
      "execution_count": null,
      "outputs": [
        {
          "output_type": "stream",
          "name": "stdout",
          "text": [
            "Authtoken saved to configuration file: /root/.config/ngrok/ngrok.yml\n"
          ]
        }
      ]
    },
    {
      "cell_type": "code",
      "source": [],
      "metadata": {
        "id": "qQeynMOQJThd"
      },
      "execution_count": null,
      "outputs": []
    },
    {
      "cell_type": "code",
      "source": [
        "from flask import Flask, request, jsonify\n",
        "from flask_ngrok import run_with_ngrok\n",
        "from pyngrok import ngrok\n",
        "\n",
        "import os\n",
        "import cv2\n",
        "import face_recognition\n",
        "import numpy as np\n",
        "import pickle\n",
        "import zipfile\n",
        "\n",
        "app = Flask(__name__)\n",
        "run_with_ngrok(app)  # This starts ngrok when the app runs\n",
        "\n",
        "# Define paths\n",
        "video_path = \"/content/WhatsApp Video 2025-01-24 at 12.29.53 PM.mp4\"\n",
        "images_path = \"/content/images\"\n",
        "pickle_file = \"/content/face_encodings.pkl\"\n",
        "output_frames_path = \"/content/processed_frames\"\n",
        "\n",
        "if not os.path.exists(output_frames_path):\n",
        "    os.makedirs(output_frames_path)\n",
        "\n",
        "@app.route('/')\n",
        "def home():\n",
        "    return '''\n",
        "    <h1>Face Recognition API</h1>\n",
        "    <p>Use this API to upload a video and reference images for face recognition.</p>\n",
        "    <form action=\"/upload\" method=\"post\" enctype=\"multipart/form-data\">\n",
        "        <label for=\"video\">Upload Video:</label><br>\n",
        "        <input type=\"file\" name=\"video\" required><br><br>\n",
        "        <label for=\"images\">Upload Reference Images (ZIP):</label><br>\n",
        "        <input type=\"file\" name=\"images\" required><br><br>\n",
        "        <button type=\"submit\">Upload and Process</button>\n",
        "    </form>\n",
        "    '''\n",
        "\n",
        "@app.route('/upload', methods=['POST'])\n",
        "def upload_files():\n",
        "    # Save uploaded files\n",
        "    video = request.files['video']\n",
        "    video.save(video_path)\n",
        "\n",
        "    images_zip = request.files['images']\n",
        "    images_zip_path = \"/content/images.zip\"\n",
        "    images_zip.save(images_zip_path)\n",
        "\n",
        "    # Unzip images\n",
        "    with zipfile.ZipFile(images_zip_path, \"r\") as zip_ref:\n",
        "        zip_ref.extractall(images_path)\n",
        "\n",
        "    # Load or compute face encodings\n",
        "    if os.path.exists(pickle_file):\n",
        "        with open(pickle_file, \"rb\") as f:\n",
        "            known_face_encodings, known_face_names = pickle.load(f)\n",
        "    else:\n",
        "        known_face_encodings = []\n",
        "        known_face_names = []\n",
        "\n",
        "        for filename in os.listdir(images_path):\n",
        "            if filename.endswith((\".jpeg\", \".png\", \".jpg\")):\n",
        "                image_path = os.path.join(images_path, filename)\n",
        "                image = face_recognition.load_image_file(image_path)\n",
        "                encodings = face_recognition.face_encodings(image)\n",
        "                if encodings:\n",
        "                    known_face_encodings.append(encodings[0])\n",
        "                    known_face_names.append(os.path.splitext(filename)[0])\n",
        "\n",
        "        with open(pickle_file, \"wb\") as f:\n",
        "            pickle.dump((known_face_encodings, known_face_names), f)\n",
        "\n",
        "    # Process video frames\n",
        "    video_capture = cv2.VideoCapture(video_path)\n",
        "    frame_count = 0\n",
        "\n",
        "    while True:\n",
        "        ret, frame = video_capture.read()\n",
        "        if not ret:\n",
        "            break\n",
        "\n",
        "        frame_count += 1\n",
        "        rgb_frame = cv2.cvtColor(frame, cv2.COLOR_BGR2RGB)\n",
        "        face_locations = face_recognition.face_locations(rgb_frame)\n",
        "        face_encodings = face_recognition.face_encodings(rgb_frame, face_locations)\n",
        "\n",
        "        for face_encoding, face_location in zip(face_encodings, face_locations):\n",
        "            matches = face_recognition.compare_faces(known_face_encodings, face_encoding)\n",
        "            name = \"Unknown\"\n",
        "\n",
        "            if matches:\n",
        "                face_distances = face_recognition.face_distance(known_face_encodings, face_encoding)\n",
        "                best_match_index = np.argmin(face_distances)\n",
        "                if matches[best_match_index]:\n",
        "                    name = known_face_names[best_match_index]\n",
        "\n",
        "            top, right, bottom, left = face_location\n",
        "            cv2.rectangle(frame, (left, top), (right, bottom), (255, 99, 71), 2)\n",
        "            cv2.putText(frame, name, (left, top - 10), cv2.FONT_HERSHEY_SIMPLEX, 1.5, (0, 255, 0), 2)\n",
        "\n",
        "        output_frame_path = os.path.join(output_frames_path, f\"frame_{frame_count}.jpg\")\n",
        "        cv2.imwrite(output_frame_path, frame)\n",
        "\n",
        "    video_capture.release()\n",
        "\n",
        "    # Zip processed frames\n",
        "    output_zip_path = \"/content/processed_frames.zip\"\n",
        "    with zipfile.ZipFile(output_zip_path, \"w\") as zipf:\n",
        "        for root, _, files in os.walk(output_frames_path):\n",
        "            for file in files:\n",
        "                zipf.write(os.path.join(root, file), os.path.relpath(os.path.join(root, file), output_frames_path))\n",
        "\n",
        "    return jsonify({\n",
        "        \"message\": \"Processing complete!\",\n",
        "        \"download_link\": \"/download\"\n",
        "    })\n",
        "\n",
        "@app.route('/download')\n",
        "def download():\n",
        "    return '''\n",
        "    <h1>Download Processed Frames</h1>\n",
        "    <a href=\"/files/processed_frames.zip\" download>Click here to download the processed frames</a>\n",
        "    '''\n",
        "\n",
        "if __name__ == '__main__':\n",
        "  public_url = ngrok.connect(5000)\n",
        "  print(\"Ngrok tunnel URL:\", public_url)\n",
        "  app.run()\n"
      ],
      "metadata": {
        "colab": {
          "base_uri": "https://localhost:8080/"
        },
        "id": "3EddSbLJETis",
        "outputId": "c552b40e-ad13-4374-dd14-85727c130bcd"
      },
      "execution_count": null,
      "outputs": [
        {
          "output_type": "stream",
          "name": "stdout",
          "text": [
            "Ngrok tunnel URL: NgrokTunnel: \"https://eb35-34-16-180-7.ngrok-free.app\" -> \"http://localhost:5000\"\n",
            " * Serving Flask app '__main__'\n",
            " * Debug mode: off\n"
          ]
        },
        {
          "output_type": "stream",
          "name": "stderr",
          "text": [
            "INFO:werkzeug:\u001b[31m\u001b[1mWARNING: This is a development server. Do not use it in a production deployment. Use a production WSGI server instead.\u001b[0m\n",
            " * Running on http://127.0.0.1:5000\n",
            "INFO:werkzeug:\u001b[33mPress CTRL+C to quit\u001b[0m\n"
          ]
        },
        {
          "output_type": "stream",
          "name": "stdout",
          "text": [
            " * Running on http://eb35-34-16-180-7.ngrok-free.app\n",
            " * Traffic stats available on http://127.0.0.1:4040\n"
          ]
        },
        {
          "output_type": "stream",
          "name": "stderr",
          "text": [
            "INFO:werkzeug:127.0.0.1 - - [24/Jan/2025 11:50:01] \"GET / HTTP/1.1\" 200 -\n",
            "INFO:werkzeug:127.0.0.1 - - [24/Jan/2025 11:50:02] \"\u001b[33mGET /favicon.ico HTTP/1.1\u001b[0m\" 404 -\n",
            "INFO:werkzeug:127.0.0.1 - - [24/Jan/2025 11:51:12] \"POST /upload HTTP/1.1\" 200 -\n",
            "INFO:werkzeug:127.0.0.1 - - [24/Jan/2025 11:51:17] \"POST /upload HTTP/1.1\" 200 -\n",
            "INFO:werkzeug:127.0.0.1 - - [24/Jan/2025 12:00:07] \"POST /upload HTTP/1.1\" 200 -\n"
          ]
        }
      ]
    }
  ]
}